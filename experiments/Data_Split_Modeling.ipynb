{
  "cells": [
    {
      "cell_type": "code",
      "execution_count": null,
      "metadata": {
        "id": "BxdNfedRRnGk"
      },
      "outputs": [],
      "source": [
        "import pandas as pd\n",
        "import numpy as np\n",
        "from scipy import signal\n",
        "import matplotlib.pyplot as plt\n",
        "import seaborn as sns"
      ]
    },
    {
      "cell_type": "code",
      "execution_count": null,
      "metadata": {
        "id": "O6WAovPRg7KM"
      },
      "outputs": [],
      "source": [
        "import warnings\n",
        "warnings.filterwarnings(\"ignore\")"
      ]
    },
    {
      "cell_type": "code",
      "execution_count": null,
      "metadata": {
        "colab": {
          "base_uri": "https://localhost:8080/"
        },
        "id": "Y6y8I9NxpHni",
        "outputId": "ae823019-bacd-421e-b8e9-23850150e6ab"
      },
      "outputs": [
        {
          "name": "stdout",
          "output_type": "stream",
          "text": [
            "Mounted at /content/drive\n"
          ]
        }
      ],
      "source": [
        "from google.colab import drive\n",
        "drive.mount('/content/drive')\n"
      ]
    },
    {
      "cell_type": "code",
      "execution_count": null,
      "metadata": {
        "id": "6zw2JAZemLVy"
      },
      "outputs": [],
      "source": [
        "id = \"MMCS0002\""
      ]
    },
    {
      "cell_type": "code",
      "execution_count": null,
      "metadata": {
        "id": "yAogwOHFM4rV"
      },
      "outputs": [],
      "source": [
        "# Heart Rate Features\n",
        "heart_rate_features_1 = [\n",
        "    'HeartRate'\n",
        "]\n",
        "\n",
        "heart_rate_features_2 = [\n",
        "    'HeartRate_15_Mean', 'HeartRate_15_Std',\n",
        "    'HeartRate_30_Mean', 'HeartRate_30_Std',\n",
        "    'HeartRate_60_Mean', 'HeartRate_60_Std',\n",
        "    'HeartRate_90_Mean', 'HeartRate_90_Std',\n",
        "    'HeartRate_180_Mean', 'HeartRate_180_Std',\n",
        "    'HeartRate_240_Mean', 'HeartRate_240_Std',\n",
        "    'HeartRate_360_Mean', 'HeartRate_360_Std',\n",
        "    'HeartRate_720_Mean', 'HeartRate_720_Std',\n",
        "    'HeartRate_1440_Mean', 'HeartRate_1440_Std',\n",
        "]\n",
        "\n",
        "sleep_features_1 = [\n",
        "    'Sleep'\n",
        "]\n",
        "\n",
        "sleep_features_2 = [\n",
        "     'Sleep_15min_Mean', 'Sleep_15min_Std',\n",
        "    'Sleep_30min_Mean', 'Sleep_30min_Std',\n",
        "    'Sleep_60min_Mean', 'Sleep_60min_Std',\n",
        "    'Sleep_90min_Mean', 'Sleep_90min_Std',\n",
        "    'Sleep_180min_Mean', 'Sleep_180min_Std',\n",
        "    'Sleep_240min_Mean', 'Sleep_240min_Std',\n",
        "    'Sleep_360min_Mean', 'Sleep_360min_Std',\n",
        "    'Sleep_720min_Mean', 'Sleep_720min_Std',\n",
        "    'Sleep_1440min_Mean', 'Sleep_1440min_Std',\n",
        "]\n",
        "\n",
        "intensity_features_1 = [\n",
        "    'Intensity',\n",
        "]\n",
        "\n",
        "intensity_features_2 = [\n",
        "    'Intensity_15min_Mean', 'Intensity_15min_Std',\n",
        "    'Intensity_30min_Mean', 'Intensity_30min_Std',\n",
        "    'Intensity_60min_Mean', 'Intensity_60min_Std',\n",
        "    'Intensity_90min_Mean', 'Intensity_90min_Std',\n",
        "    'Intensity_180min_Mean', 'Intensity_180min_Std',\n",
        "    'Intensity_240min_Mean', 'Intensity_240min_Std',\n",
        "    'Intensity_360min_Mean', 'Intensity_360min_Std',\n",
        "    'Intensity_720min_Mean', 'Intensity_720min_Std',\n",
        "    'Intensity_1440min_Mean', 'Intensity_1440min_Std',\n",
        "]\n",
        "\n",
        "steps_features_1 = [\n",
        "    'Steps',\n",
        "]\n",
        "\n",
        "steps_features_2 = [\n",
        "    'Steps_15min_Mean', 'Steps_15min_Std', 'Steps_30min_Mean', 'Steps_30min_Std',\n",
        "    'Steps_60min_Mean', 'Steps_60min_Std', 'Steps_90min_Mean', 'Steps_90min_Std',\n",
        "    'Steps_180min_Mean', 'Steps_180min_Std', 'Steps_240min_Mean', 'Steps_240min_Std',\n",
        "    'Steps_360min_Mean', 'Steps_360min_Std', 'Steps_720min_Mean', 'Steps_720min_Std',\n",
        "    'Steps_1440min_Mean', 'Steps_1440min_Std',\n",
        "]\n",
        "\n",
        "temporal_features = [\n",
        "     'MinuteOfDay_Sin',\n",
        "     'MinuteOfDay_Cos',\n",
        "     'DayOfWeek_Sin',\n",
        "     'DayOfWeek_Cos',\n",
        "     'Is_Weekend'\n",
        "]\n",
        "\n",
        "\n",
        "baseline_features = [\"Time\"] + heart_rate_features_1 + sleep_features_1 + intensity_features_1 + steps_features_1 + temporal_features\n",
        "\n",
        "final_features = [\"Time\"] + heart_rate_features_1 + heart_rate_features_2 + sleep_features_1 + sleep_features_2 + intensity_features_1 + intensity_features_2 + steps_features_1 + steps_features_2 + temporal_features\n",
        "\n"
      ]
    },
    {
      "cell_type": "code",
      "execution_count": null,
      "metadata": {
        "colab": {
          "base_uri": "https://localhost:8080/"
        },
        "id": "RQf70z2HO95B",
        "outputId": "562473ed-ce6f-4a54-93a0-8676dc21880d"
      },
      "outputs": [
        {
          "name": "stdout",
          "output_type": "stream",
          "text": [
            "baseline  feature_engineered\n"
          ]
        }
      ],
      "source": [
        "! ls \"/content/drive/MyDrive/UTA_Glucose/Ravikiran/data\""
      ]
    },
    {
      "cell_type": "code",
      "execution_count": null,
      "metadata": {
        "colab": {
          "base_uri": "https://localhost:8080/"
        },
        "id": "FW5h-KZzTr7u",
        "outputId": "95731bfe-f2d8-4bd5-8cbc-e261cd4c7015"
      },
      "outputs": [
        {
          "name": "stdout",
          "output_type": "stream",
          "text": [
            "MMCS0002_combined_imputed_baseline_data.csv  MMCS0009_combined_imputed_baseline_data.csv\n",
            "MMCS0003_combined_imputed_baseline_data.csv  MMCS0010_combined_imputed_baseline_data.csv\n",
            "MMCS0005_combined_imputed_baseline_data.csv  MMCS0011_combined_imputed_baseline_data.csv\n",
            "MMCS0007_combined_imputed_baseline_data.csv  MMCS0016_combined_imputed_baseline_data.csv\n",
            "MMCS0008_combined_imputed_baseline_data.csv\n"
          ]
        }
      ],
      "source": [
        "! ls \"/content/drive/MyDrive/UTA_Glucose/Ravikiran/data/baseline\""
      ]
    },
    {
      "cell_type": "code",
      "execution_count": null,
      "metadata": {
        "colab": {
          "base_uri": "https://localhost:8080/"
        },
        "id": "yOX-0dENh4Mb",
        "outputId": "4adaf87b-54c6-4d8d-bc6e-2432529392fe"
      },
      "outputs": [
        {
          "name": "stdout",
          "output_type": "stream",
          "text": [
            "MMCS0002_feature_engineered_data.csv  MMCS0008_feature_engineered_data.csv\n",
            "MMCS0002_glucose_processed.csv\t      MMCS0008_glucose_processed.csv\n",
            "MMCS0003_feature_engineered_data.csv  MMCS0009_feature_engineered_data.csv\n",
            "MMCS0003_glucose_processed.csv\t      MMCS0009_glucose_processed.csv\n",
            "MMCS0005_feature_engineered_data.csv  MMCS0010_glucose_processed.csv\n",
            "MMCS0005_glucose_processed.csv\t      MMCS0011_glucose_processed.csv\n",
            "MMCS0007_feature_engineered_data.csv  MMCS0016_feature_engineered_data.csv\n",
            "MMCS0007_glucose_processed.csv\t      MMCS0016_glucose_processed.csv\n"
          ]
        }
      ],
      "source": [
        "! ls \"/content/drive/MyDrive/UTA_Glucose/Ravikiran/data/feature_engineered\""
      ]
    },
    {
      "cell_type": "code",
      "execution_count": null,
      "metadata": {
        "id": "NZurUhw5leVM"
      },
      "outputs": [],
      "source": [
        "glucose_path = f\"/content/drive/MyDrive/UTA_Glucose/Ravikiran/data/feature_engineered/{id}_glucose_processed.csv\""
      ]
    },
    {
      "cell_type": "code",
      "execution_count": null,
      "metadata": {
        "id": "1bEe3u_xiedt"
      },
      "outputs": [],
      "source": [
        "df_glucose_filtered = pd.read_csv(glucose_path)"
      ]
    },
    {
      "cell_type": "code",
      "execution_count": null,
      "metadata": {
        "id": "9uRdCPk2l4dl"
      },
      "outputs": [],
      "source": [
        "df_features = pd.read_csv(f'/content/drive/MyDrive/UTA_Glucose/Ravikiran/data/feature_engineered/{id}_feature_engineered_data.csv')"
      ]
    },
    {
      "cell_type": "code",
      "execution_count": null,
      "metadata": {
        "colab": {
          "base_uri": "https://localhost:8080/"
        },
        "id": "-_tAW10t5TzF",
        "outputId": "30625b56-7e97-4ebb-98b7-8fa5be73328f"
      },
      "outputs": [
        {
          "name": "stdout",
          "output_type": "stream",
          "text": [
            "Series([], dtype: int64)\n"
          ]
        }
      ],
      "source": [
        "# Calculate the number of NaN values in each column\n",
        "nan_counts = df_features.isnull().sum()\n",
        "\n",
        "# Filter columns with at least one NaN value\n",
        "columns_with_nan = nan_counts[nan_counts > 0]\n",
        "\n",
        "# Display the result\n",
        "print(columns_with_nan)"
      ]
    },
    {
      "cell_type": "code",
      "execution_count": null,
      "metadata": {
        "colab": {
          "base_uri": "https://localhost:8080/"
        },
        "id": "Ppt8aK7HmUW2",
        "outputId": "c3b78720-7f8a-4a01-b69c-7ce14417a701"
      },
      "outputs": [
        {
          "data": {
            "text/plain": [
              "(70211, 82)"
            ]
          },
          "execution_count": 13,
          "metadata": {},
          "output_type": "execute_result"
        }
      ],
      "source": [
        "df_features.shape"
      ]
    },
    {
      "cell_type": "code",
      "execution_count": null,
      "metadata": {
        "colab": {
          "base_uri": "https://localhost:8080/"
        },
        "id": "4LHCZsEAsp-i",
        "outputId": "351f0157-5303-4077-86db-7bdf4792bf74"
      },
      "outputs": [
        {
          "name": "stdout",
          "output_type": "stream",
          "text": [
            "      Device Timestamp  Historic Glucose mg/dL\n",
            "0  2020-12-10 11:06:00                   107.0\n",
            "1  2020-12-10 11:21:00                   104.0\n",
            "2  2020-12-10 11:36:00                   111.0\n",
            "3  2020-12-10 11:51:00                   107.0\n",
            "4  2020-12-10 12:06:00                    92.0\n"
          ]
        }
      ],
      "source": [
        "print(df_glucose_filtered.head())"
      ]
    },
    {
      "cell_type": "code",
      "execution_count": null,
      "metadata": {
        "colab": {
          "base_uri": "https://localhost:8080/"
        },
        "id": "HKQQLo2Qm1aF",
        "outputId": "d958dddd-4190-462f-a50d-9e2745c452c5"
      },
      "outputs": [
        {
          "data": {
            "text/plain": [
              "(2682, 2)"
            ]
          },
          "execution_count": 15,
          "metadata": {},
          "output_type": "execute_result"
        }
      ],
      "source": [
        "df_glucose_filtered.shape"
      ]
    },
    {
      "cell_type": "code",
      "execution_count": null,
      "metadata": {
        "colab": {
          "base_uri": "https://localhost:8080/"
        },
        "id": "Q_CpMlotnCk5",
        "outputId": "0abe8f73-eaec-4148-92e5-eeff9adeaf5e"
      },
      "outputs": [
        {
          "name": "stdout",
          "output_type": "stream",
          "text": [
            "Series([], dtype: int64)\n"
          ]
        }
      ],
      "source": [
        "# Calculate the number of NaN values in each column\n",
        "nan_counts = df_glucose_filtered.isnull().sum()\n",
        "\n",
        "# Filter columns with at least one NaN value\n",
        "columns_with_nan = nan_counts[nan_counts > 0]\n",
        "\n",
        "# Display the result\n",
        "print(columns_with_nan)"
      ]
    },
    {
      "cell_type": "code",
      "execution_count": null,
      "metadata": {
        "colab": {
          "base_uri": "https://localhost:8080/"
        },
        "id": "LcMykJh1t5en",
        "outputId": "5180d697-f447-4ee9-9347-a67bcbd22d76"
      },
      "outputs": [
        {
          "data": {
            "text/plain": [
              "(70211, 82)"
            ]
          },
          "execution_count": 17,
          "metadata": {},
          "output_type": "execute_result"
        }
      ],
      "source": [
        "df_features.shape"
      ]
    },
    {
      "cell_type": "code",
      "execution_count": null,
      "metadata": {
        "id": "t6l0FYm423f9"
      },
      "outputs": [],
      "source": [
        "def extract_consecutive_entries_ending_at(\n",
        "    main_df,\n",
        "    minute_df,\n",
        "    time_column_main='Time',\n",
        "    time_column_minute='Time',\n",
        "    num_entries=1440,\n",
        "    lag=0,\n",
        "    fill_missing=False\n",
        "    ):\n",
        "    \"\"\"\n",
        "    Extracts consecutive entries ending with each timestamp in the main_df from the minute-level dataframe.\n",
        "\n",
        "    Parameters:\n",
        "    - main_df (pd.DataFrame): DataFrame containing interval timestamps.\n",
        "    - minute_df (pd.DataFrame): DataFrame containing minute-level interval data.\n",
        "    - time_column_main (str): The column name of the time column in main_df.\n",
        "    - time_column_minute (str): The column name of the time column in minute_df.\n",
        "    - num_entries (int): The number of consecutive entries to extract (default is 15).\n",
        "    - fill_missing (bool): Whether to fill missing entries with NaNs if fewer than num_entries are found.\n",
        "\n",
        "    Returns:\n",
        "    - pd.DataFrame: A new DataFrame containing consecutive minute-level entries ending with each interval.\n",
        "    \"\"\"\n",
        "    # Convert the time columns to datetime if not already\n",
        "    main_df[time_column_main] = pd.to_datetime(main_df[time_column_main])\n",
        "    minute_df[time_column_minute] = pd.to_datetime(minute_df[time_column_minute])\n",
        "\n",
        "    # Ensure both dataframes are sorted by time\n",
        "    main_df = main_df.sort_values(by=time_column_main)\n",
        "    minute_df = minute_df.sort_values(by=time_column_minute)\n",
        "\n",
        "    print(main_df.shape)\n",
        "    print(minute_df.shape)\n",
        "\n",
        "    # Initialize an empty list to store the results\n",
        "    extracted_data = []\n",
        "\n",
        "    # Create a set of minute-level indices for faster lookups\n",
        "    minute_df_index_set = set(minute_df[time_column_minute])\n",
        "\n",
        "    # Loop through each interval in the main dataframe\n",
        "    for time_entry in main_df[time_column_main]:\n",
        "        # Calculate the start time for the desired number of entries\n",
        "        start_time = time_entry - pd.Timedelta(minutes=(num_entries-1)) - pd.Timedelta(minutes=lag)\n",
        "        time_entry = time_entry - pd.Timedelta(minutes=lag)\n",
        "\n",
        "        # Extract the relevant rows from the minute-level dataframe\n",
        "        # Using a slice of minute_df with start_time and time_entry\n",
        "        extracted_rows = minute_df.loc[\n",
        "            (minute_df[time_column_minute] >= start_time) &\n",
        "            (minute_df[time_column_minute] <= time_entry)\n",
        "        ]\n",
        "\n",
        "        extracted_rows.set_index(time_column_minute, inplace=True)\n",
        "\n",
        "        # Get the minimum and maximum times\n",
        "        min_time = extracted_rows.index.min()\n",
        "        #max_time = extracted_rows.index.max()\n",
        "\n",
        "        #print(f\"Minimum time: {min_time}\")\n",
        "        #print(f\"Maximum time: {max_time}\")\n",
        "\n",
        "        #extracted_rows = extracted_rows.reset_index()\n",
        "\n",
        "        # Resample to 15-minute intervals and aggregate using mean\n",
        "        extracted_rows = extracted_rows.resample(\"15T\", origin=min_time).mean()\n",
        "\n",
        "        #print(start_time)\n",
        "        #print(time_entry)\n",
        "        # Get the minimum and maximum times\n",
        "\n",
        "        #extracted_rows.set_index(time_column_minute, inplace=True)\n",
        "\n",
        "        #min_time = extracted_rows.index.min()\n",
        "        #max_time = extracted_rows.index.max()\n",
        "\n",
        "        #print(f\"Minimum time: {min_time}\")\n",
        "        #print(f\"Maximum time: {max_time}\")\n",
        "\n",
        "        #print(extracted_rows.shape)\n",
        "\n",
        "        has_nan = extracted_rows.isnull().values.any()\n",
        "        if has_nan:\n",
        "          print(f\"Does extracted_rows contain NaN values? {has_nan}\")\n",
        "\n",
        "\n",
        "        extracted_data.append(extracted_rows.to_numpy())\n",
        "\n",
        "    return np.array(extracted_data), main_df[[\"Historic Glucose mg/dL\"]].to_numpy()"
      ]
    },
    {
      "cell_type": "code",
      "execution_count": null,
      "metadata": {
        "id": "Ub25G8Nfd4T4"
      },
      "outputs": [],
      "source": [
        "import numpy as np\n",
        "import pandas as pd\n",
        "from sklearn.model_selection import KFold\n",
        "from sklearn.metrics import mean_squared_error, mean_absolute_error, r2_score\n",
        "from scipy.stats import spearmanr\n",
        "import xgboost as xgb\n",
        "\n",
        "xgb_params = {\n",
        "    \"n_estimators\": 100,               # Number of boosting rounds (trees)\n",
        "    \"max_depth\": 6,                    # Maximum depth of each tree\n",
        "    \"learning_rate\": 0.1,              # Learning rate (also known as eta)\n",
        "    \"subsample\": 0.8,                  # Fraction of samples to use for training each tree\n",
        "    \"colsample_bytree\": 0.8,           # Fraction of features to consider for each split\n",
        "    \"objective\": \"reg:squarederror\",   # Objective function for regression (minimizes squared error)\n",
        "    \"eval_metric\": \"rmse\"              # Evaluation metric used for early stopping\n",
        "}\n",
        "\n",
        "model = xgb.XGBRegressor(**xgb_params)\n",
        "\n",
        "# Initialize K-Fold Cross-Validation\n",
        "kfold = KFold(n_splits=5, shuffle=True, random_state=42)"
      ]
    },
    {
      "cell_type": "code",
      "execution_count": null,
      "metadata": {
        "id": "3f3ON4W8faYu"
      },
      "outputs": [],
      "source": [
        "def perform_kfold_cv(features, labels, model, model_name, lag, id, k_splits=5):\n",
        "\n",
        "    features = features.reshape(features.shape[0], -1)\n",
        "    labels = labels.flatten()\n",
        "\n",
        "    kfold = KFold(n_splits=k_splits, shuffle=True, random_state=42)\n",
        "    rmse_scores, mae_scores, mape_scores, r2_scores, spearman_coeffs = [], [], [], [], []\n",
        "\n",
        "    for fold, (train_idx, val_idx) in enumerate(kfold.split(features, labels)):\n",
        "        print(f\"Fold {fold + 1}\")\n",
        "        X_train, X_val = features[train_idx], features[val_idx]\n",
        "        y_train, y_val = labels[train_idx], labels[val_idx]\n",
        "        model.fit(X_train, y_train)\n",
        "        y_pred = model.predict(X_val)\n",
        "        rmse_scores.append(mean_squared_error(y_val, y_pred, squared=False))\n",
        "        mae_scores.append(mean_absolute_error(y_val, y_pred))\n",
        "        mape_scores.append(np.mean(np.abs((y_val - y_pred) / np.where(y_val != 0, y_val, np.finfo(float).eps))) * 100)\n",
        "        r2_scores.append(r2_score(y_val, y_pred))\n",
        "        spearman_coeffs.append(spearmanr(y_val, y_pred)[0])\n",
        "        print(f\"RMSE: {rmse_scores[-1]}, MAE: {mae_scores[-1]}, MAPE: {mape_scores[-1]}, R²: {r2_scores[-1]}, Spearman: {spearman_coeffs[-1]}\")\n",
        "\n",
        "    # Include mean and standard deviation for each metric\n",
        "    metrics = {\n",
        "        \"RMSE Mean\": np.mean(rmse_scores), \"RMSE Std\": np.std(rmse_scores),\n",
        "        \"MAE Mean\": np.mean(mae_scores), \"MAE Std\": np.std(mae_scores),\n",
        "        \"MAPE Mean\": np.mean(mape_scores), \"MAPE Std\": np.std(mape_scores),\n",
        "        \"R² Mean\": np.mean(r2_scores), \"R² Std\": np.std(r2_scores),\n",
        "        \"Spearman Mean\": np.mean(spearman_coeffs), \"Spearman Std\": np.std(spearman_coeffs),\n",
        "        \"model\": model_name, \"lag\": lag, \"id\": id,\n",
        "    }\n",
        "\n",
        "    print(f\"RMSE: {np.mean(rmse_scores):.4f} ± {np.std(rmse_scores):.4f}, \"\n",
        "      f\"MAE: {np.mean(mae_scores):.4f} ± {np.std(mae_scores):.4f}, \"\n",
        "      f\"MAPE: {np.mean(mape_scores):.4f} ± {np.std(mape_scores):.4f}, \"\n",
        "      f\"R²: {np.mean(r2_scores):.4f} ± {np.std(r2_scores):.4f}, \"\n",
        "      f\"Spearman: {np.mean(spearman_coeffs):.4f} ± {np.std(spearman_coeffs):.4f}\")\n",
        "\n",
        "    return metrics"
      ]
    },
    {
      "cell_type": "code",
      "execution_count": null,
      "metadata": {
        "colab": {
          "base_uri": "https://localhost:8080/"
        },
        "id": "rcU1XkDi5Tgl",
        "outputId": "5c9d517f-36e4-4e81-face-c3c77f88e946"
      },
      "outputs": [
        {
          "name": "stdout",
          "output_type": "stream",
          "text": [
            "(2682, 2)\n",
            "(70211, 10)\n",
            "Fold 1\n",
            "RMSE: 8.458332620093994, MAE: 6.573064495065359, MAPE: 7.966182678181806, R²: 0.6587445687451312, Spearman: 0.8208646251351264\n",
            "Fold 2\n",
            "RMSE: 8.368907874423385, MAE: 6.547289750651497, MAPE: 7.817308431879007, R²: 0.6911946064715639, Spearman: 0.839030720656799\n",
            "Fold 3\n",
            "RMSE: 8.356573206060633, MAE: 6.446181133611878, MAPE: 7.630265628244833, R²: 0.6628847562598927, Spearman: 0.8170005664160525\n",
            "Fold 4\n",
            "RMSE: 7.850504699536894, MAE: 6.224316219785321, MAPE: 7.59355349619641, R²: 0.7068966799735497, Spearman: 0.839887319814023\n",
            "Fold 5\n",
            "RMSE: 9.40614369297499, MAE: 7.069575886228192, MAPE: 8.29125461031568, R²: 0.6167755606418632, Spearman: 0.7841937707140183\n",
            "RMSE: 8.4881 ± 0.5063, MAE: 6.5721 ± 0.2775, MAPE: 7.8597 ± 0.2541, R²: 0.6673 ± 0.0309, Spearman: 0.8202 ± 0.0202\n"
          ]
        },
        {
          "data": {
            "text/plain": [
              "{'RMSE Mean': 8.488092418617978,\n",
              " 'RMSE Std': 0.5063050752908402,\n",
              " 'MAE Mean': 6.57208549706845,\n",
              " 'MAE Std': 0.2774555293171133,\n",
              " 'MAPE Mean': 7.859712968963547,\n",
              " 'MAPE Std': 0.2541059145607741,\n",
              " 'R² Mean': 0.6672992344184001,\n",
              " 'R² Std': 0.030933018068476346,\n",
              " 'Spearman Mean': 0.8201954005472037,\n",
              " 'Spearman Std': 0.020245064313862804}"
            ]
          },
          "execution_count": 21,
          "metadata": {},
          "output_type": "execute_result"
        }
      ],
      "source": [
        "features, labels = extract_consecutive_entries_ending_at(\n",
        "    df_glucose_filtered,\n",
        "    df_features[baseline_features],\n",
        "    time_column_main='Device Timestamp',\n",
        "    time_column_minute='Time',\n",
        "    num_entries=1440,\n",
        "    lag=0,\n",
        "    fill_missing=False)\n",
        "\n",
        "perform_kfold_cv(features, labels, model, model_name, lag, id)"
      ]
    },
    {
      "cell_type": "code",
      "execution_count": null,
      "metadata": {
        "colab": {
          "base_uri": "https://localhost:8080/"
        },
        "id": "_pWIrfMAdU2a",
        "outputId": "ca5fd12f-4bb6-40c2-adc8-3aea92c60f83"
      },
      "outputs": [
        {
          "name": "stdout",
          "output_type": "stream",
          "text": [
            "(2682, 2)\n",
            "(70211, 82)\n",
            "Fold 1\n",
            "RMSE: 4.943421095557125, MAE: 3.821927885769466, MAPE: 4.4783053486738575, R²: 0.8834357788821221, Spearman: 0.9417636432777852\n",
            "Fold 2\n",
            "RMSE: 4.941621912212479, MAE: 3.7476013155178873, MAPE: 4.426132476040033, R²: 0.8923320780714454, Spearman: 0.941643595533678\n",
            "Fold 3\n",
            "RMSE: 5.041851936551675, MAE: 3.7556515451687487, MAPE: 4.379149020690718, R²: 0.8772837368278088, Spearman: 0.9375391851651295\n",
            "Fold 4\n",
            "RMSE: 4.880592332848923, MAE: 3.6750574111938477, MAPE: 4.373246639845237, R²: 0.8867154591903359, Spearman: 0.9426275915795681\n",
            "Fold 5\n",
            "RMSE: 5.447938555520309, MAE: 4.046360393068683, MAPE: 4.686870432865307, R²: 0.8714433990509318, Spearman: 0.9321140021275768\n",
            "RMSE: 5.0511 ± 0.2050, MAE: 3.8093 ± 0.1273, MAPE: 4.4687 ± 0.1154, R²: 0.8822 ± 0.0073, Spearman: 0.9391 ± 0.0039\n"
          ]
        },
        {
          "data": {
            "text/plain": [
              "{'RMSE Mean': 5.051085166538102,\n",
              " 'RMSE Std': 0.20504605699684345,\n",
              " 'MAE Mean': 3.809319710143727,\n",
              " 'MAE Std': 0.12732874658961996,\n",
              " 'MAPE Mean': 4.468740783623031,\n",
              " 'MAPE Std': 0.11544116089110579,\n",
              " 'R² Mean': 0.882242090404529,\n",
              " 'R² Std': 0.007272424310172285,\n",
              " 'Spearman Mean': 0.9391376035367476,\n",
              " 'Spearman Std': 0.003930445653990165}"
            ]
          },
          "execution_count": 22,
          "metadata": {},
          "output_type": "execute_result"
        }
      ],
      "source": [
        "features, labels = extract_consecutive_entries_ending_at(\n",
        "    df_glucose_filtered,\n",
        "    df_features[final_features],\n",
        "    time_column_main='Device Timestamp',\n",
        "    time_column_minute='Time',\n",
        "    num_entries=1440,\n",
        "    lag=0,\n",
        "    fill_missing=False)\n",
        "\n",
        "perform_kfold_cv(features, labels, model)"
      ]
    },
    {
      "cell_type": "code",
      "execution_count": null,
      "metadata": {
        "colab": {
          "background_save": true,
          "base_uri": "https://localhost:8080/"
        },
        "id": "Bn6FlKX4dVpm",
        "outputId": "1f65b04f-4301-4dbb-a748-a5d514e5dd09"
      },
      "outputs": [
        {
          "name": "stdout",
          "output_type": "stream",
          "text": [
            "(2682, 2)\n",
            "(70211, 82)\n",
            "Fold 1\n",
            "RMSE: 4.985342985611864, MAE: 3.8171640818789463, MAPE: 4.490305694140526, R²: 0.8814503876523927, Spearman: 0.9364848033668008\n",
            "Fold 2\n",
            "RMSE: 5.245295919708801, MAE: 4.055173593304454, MAPE: 4.802949581979686, R²: 0.8786926007940571, Spearman: 0.9341782478643083\n",
            "Fold 3\n",
            "RMSE: 5.367743382456554, MAE: 3.9437538972541466, MAPE: 4.609518426293821, R²: 0.8609069478024285, Spearman: 0.9295243058207743\n",
            "Fold 4\n",
            "RMSE: 4.911554420784874, MAE: 3.805875557572094, MAPE: 4.542145469122137, R²: 0.8852735638602246, Spearman: 0.9374008656771978\n",
            "Fold 5\n",
            "RMSE: 5.788181807006587, MAE: 4.295063524103877, MAPE: 4.98176278664498, R²: 0.8548843313257541, Spearman: 0.9222129335209285\n",
            "RMSE: 5.2596 ± 0.3123, MAE: 3.9834 ± 0.1806, MAPE: 4.6853 ± 0.1822, R²: 0.8722 ± 0.0120, Spearman: 0.9320 ± 0.0056\n"
          ]
        },
        {
          "data": {
            "text/plain": [
              "{'RMSE Mean': 5.2596237031137365,\n",
              " 'RMSE Std': 0.31229824108488624,\n",
              " 'MAE Mean': 3.9834061308227033,\n",
              " 'MAE Std': 0.18055842398546196,\n",
              " 'MAPE Mean': 4.68533639163623,\n",
              " 'MAPE Std': 0.18220342879617277,\n",
              " 'R² Mean': 0.8722415662869715,\n",
              " 'R² Std': 0.012049882817605918,\n",
              " 'Spearman Mean': 0.9319602312500018,\n",
              " 'Spearman Std': 0.0055845393584037116}"
            ]
          },
          "execution_count": 23,
          "metadata": {},
          "output_type": "execute_result"
        }
      ],
      "source": [
        "features, labels = extract_consecutive_entries_ending_at(\n",
        "    df_glucose_filtered,\n",
        "    df_features[final_features],\n",
        "    time_column_main='Device Timestamp',\n",
        "    time_column_minute='Time',\n",
        "    num_entries=1440,\n",
        "    lag=30,\n",
        "    fill_missing=False)\n",
        "\n",
        "perform_kfold_cv(features, labels, model)"
      ]
    },
    {
      "cell_type": "code",
      "execution_count": null,
      "metadata": {
        "colab": {
          "background_save": true
        },
        "id": "dKvJlrXmj20f",
        "outputId": "d3b5940d-845d-4dde-aa2c-a7167fe491ab"
      },
      "outputs": [
        {
          "name": "stdout",
          "output_type": "stream",
          "text": [
            "(2682, 2)\n",
            "(70211, 82)\n",
            "Fold 1\n",
            "RMSE: 5.066047756425403, MAE: 3.8168498772704624, MAPE: 4.481368131616176, R²: 0.8775810607957705, Spearman: 0.935517245359549\n",
            "Fold 2\n",
            "RMSE: 5.2379523635836645, MAE: 4.073510438148314, MAPE: 4.787857838537755, R²: 0.87903203030067, Spearman: 0.9374526700229682\n",
            "Fold 3\n",
            "RMSE: 5.207027584406283, MAE: 3.8220065600836457, MAPE: 4.476861712238243, R²: 0.8691114358371399, Spearman: 0.9312249620450879\n",
            "Fold 4\n",
            "RMSE: 4.89657166875193, MAE: 3.6913036944261237, MAPE: 4.40604785406815, R²: 0.8859724448287755, Spearman: 0.9405673866855633\n",
            "Fold 5\n",
            "RMSE: 5.472349799048574, MAE: 4.150386219594016, MAPE: 4.8354644437140015, R²: 0.8702887394018896, Spearman: 0.9336552734886846\n",
            "RMSE: 5.1760 ± 0.1912, MAE: 3.9108 ± 0.1725, MAPE: 4.5975 ± 0.1775, R²: 0.8764 ± 0.0062, Spearman: 0.9357 ± 0.0032\n"
          ]
        },
        {
          "data": {
            "text/plain": [
              "{'RMSE Mean': 5.17598983444317,\n",
              " 'RMSE Std': 0.1912033981906691,\n",
              " 'MAE Mean': 3.9108113579045125,\n",
              " 'MAE Std': 0.1724910266364098,\n",
              " 'MAPE Mean': 4.597519996034865,\n",
              " 'MAPE Std': 0.17751468259047742,\n",
              " 'R² Mean': 0.876397142232849,\n",
              " 'R² Std': 0.0061713016605393954,\n",
              " 'Spearman Mean': 0.9356835075203707,\n",
              " 'Spearman Std': 0.003193813263463437}"
            ]
          },
          "execution_count": 24,
          "metadata": {},
          "output_type": "execute_result"
        }
      ],
      "source": [
        "features, labels = extract_consecutive_entries_ending_at(\n",
        "    df_glucose_filtered,\n",
        "    df_features[final_features],\n",
        "    time_column_main='Device Timestamp',\n",
        "    time_column_minute='Time',\n",
        "    num_entries=1440,\n",
        "    lag=60,\n",
        "    fill_missing=False)\n",
        "\n",
        "perform_kfold_cv(features, labels, model)"
      ]
    },
    {
      "cell_type": "code",
      "execution_count": null,
      "metadata": {
        "colab": {
          "background_save": true
        },
        "id": "_UbUWcePj398",
        "outputId": "6703df2e-da08-421e-da7e-353470c536fb"
      },
      "outputs": [
        {
          "name": "stdout",
          "output_type": "stream",
          "text": [
            "(2682, 2)\n",
            "(70211, 82)\n",
            "Fold 1\n",
            "RMSE: 5.080430000513424, MAE: 3.9423540424368233, MAPE: 4.6062948488799025, R²: 0.8768849922394475, Spearman: 0.9336052670230078\n",
            "Fold 2\n",
            "RMSE: 5.078951075609077, MAE: 3.8820575238162136, MAPE: 4.543576290614582, R²: 0.8862646779935175, Spearman: 0.9398487247944978\n",
            "Fold 3\n",
            "RMSE: 5.154529564445036, MAE: 3.9124051421435913, MAPE: 4.610870869490894, R²: 0.8717374066649768, Spearman: 0.9360703551135761\n",
            "Fold 4\n",
            "RMSE: 4.883838308518322, MAE: 3.695136753480826, MAPE: 4.367549261080121, R²: 0.8865647229194062, Spearman: 0.9449923393509634\n",
            "Fold 5\n",
            "RMSE: 5.609996058565235, MAE: 4.247619180536982, MAPE: 4.936003795102477, R²: 0.8636814079531598, Spearman: 0.9261922322424289\n",
            "RMSE: 5.1615 ± 0.2415, MAE: 3.9359 ± 0.1781, MAPE: 4.6129 ± 0.1841, R²: 0.8770 ± 0.0087, Spearman: 0.9361 ± 0.0063\n"
          ]
        },
        {
          "data": {
            "text/plain": [
              "{'RMSE Mean': 5.161549001530219,\n",
              " 'RMSE Std': 0.2415284555351378,\n",
              " 'MAE Mean': 3.935914528482887,\n",
              " 'MAE Std': 0.17811707530991344,\n",
              " 'MAPE Mean': 4.612859013033595,\n",
              " 'MAPE Std': 0.1840905001206704,\n",
              " 'R² Mean': 0.8770266415541016,\n",
              " 'R² Std': 0.008745371844484711,\n",
              " 'Spearman Mean': 0.9361417837048949,\n",
              " 'Spearman Std': 0.006285003432160561}"
            ]
          },
          "execution_count": 25,
          "metadata": {},
          "output_type": "execute_result"
        }
      ],
      "source": [
        "features, labels = extract_consecutive_entries_ending_at(\n",
        "    df_glucose_filtered,\n",
        "    df_features[final_features],\n",
        "    time_column_main='Device Timestamp',\n",
        "    time_column_minute='Time',\n",
        "    num_entries=1440,\n",
        "    lag=120,\n",
        "    fill_missing=False)\n",
        "\n",
        "perform_kfold_cv(features, labels, model)"
      ]
    },
    {
      "cell_type": "code",
      "execution_count": null,
      "metadata": {
        "colab": {
          "background_save": true
        },
        "id": "wZ2XYGrAj92Y",
        "outputId": "78522006-3d21-496a-8f9f-2c5d3f320e96"
      },
      "outputs": [
        {
          "name": "stdout",
          "output_type": "stream",
          "text": [
            "(2682, 2)\n",
            "(70211, 82)\n",
            "Fold 1\n",
            "RMSE: 4.968219088664562, MAE: 3.917936328625102, MAPE: 4.592144239703716, R²: 0.8822633888545008, Spearman: 0.9397833758481626\n",
            "Fold 2\n",
            "RMSE: 5.105515839868597, MAE: 3.9953820283630486, MAPE: 4.705863625926407, R²: 0.8850718122392257, Spearman: 0.9375148347462718\n",
            "Fold 3\n",
            "RMSE: 5.026919613703537, MAE: 3.691813447582188, MAPE: 4.33443081180848, R²: 0.8780095516037972, Spearman: 0.9421188044151829\n",
            "Fold 4\n",
            "RMSE: 4.6753066725697945, MAE: 3.5224050407979024, MAPE: 4.194015131052997, R²: 0.8960449028628633, Spearman: 0.9484040848006575\n",
            "Fold 5\n",
            "RMSE: 5.460328862855847, MAE: 4.106834468556873, MAPE: 4.759964636858563, R²: 0.870857978674267, Spearman: 0.9360050244207937\n",
            "RMSE: 5.0473 ± 0.2526, MAE: 3.8469 ± 0.2117, MAPE: 4.5173 ± 0.2182, R²: 0.8824 ± 0.0083, Spearman: 0.9408 ± 0.0043\n"
          ]
        },
        {
          "data": {
            "text/plain": [
              "{'RMSE Mean': 5.047258015532468,\n",
              " 'RMSE Std': 0.2525985364510076,\n",
              " 'MAE Mean': 3.8468742627850228,\n",
              " 'MAE Std': 0.2116637969288444,\n",
              " 'MAPE Mean': 4.517283689070032,\n",
              " 'MAPE Std': 0.21817345043369213,\n",
              " 'R² Mean': 0.882449526846931,\n",
              " 'R² Std': 0.008316521463259596,\n",
              " 'Spearman Mean': 0.9407652248462137,\n",
              " 'Spearman Std': 0.004344489162147354}"
            ]
          },
          "execution_count": 26,
          "metadata": {},
          "output_type": "execute_result"
        }
      ],
      "source": [
        "features, labels = extract_consecutive_entries_ending_at(\n",
        "    df_glucose_filtered,\n",
        "    df_features[final_features],\n",
        "    time_column_main='Device Timestamp',\n",
        "    time_column_minute='Time',\n",
        "    num_entries=1440,\n",
        "    lag=180,\n",
        "    fill_missing=False)\n",
        "\n",
        "perform_kfold_cv(features, labels, model)"
      ]
    },
    {
      "cell_type": "code",
      "execution_count": null,
      "metadata": {
        "colab": {
          "background_save": true
        },
        "id": "FkWBmvwGkBS-",
        "outputId": "d48665ab-3276-4354-e3d7-e28578837c1b"
      },
      "outputs": [
        {
          "name": "stdout",
          "output_type": "stream",
          "text": [
            "(2682, 2)\n",
            "(70211, 82)\n",
            "Fold 1\n",
            "RMSE: 5.093661285659976, MAE: 3.9590780020204113, MAPE: 4.643654221417669, R²: 0.8762428847848285, Spearman: 0.9347907145202163\n",
            "Fold 2\n",
            "RMSE: 5.152575481144969, MAE: 3.994626959830911, MAPE: 4.70814251178747, R²: 0.8829433670246646, Spearman: 0.9354789400580729\n",
            "Fold 3\n",
            "RMSE: 5.146902096321761, MAE: 3.8683941257533743, MAPE: 4.523122322126418, R²: 0.8721167215922329, Spearman: 0.9376653488035331\n",
            "Fold 4\n",
            "RMSE: 4.692509446621095, MAE: 3.5244227452064627, MAPE: 4.227991001906666, R²: 0.8952784906361453, Spearman: 0.9467430516689048\n",
            "Fold 5\n",
            "RMSE: 5.597893777819378, MAE: 4.17546623856274, MAPE: 4.833074573927569, R²: 0.8642689257905154, Spearman: 0.9324770072724047\n",
            "RMSE: 5.1367 ± 0.2871, MAE: 3.9044 ± 0.2146, MAPE: 4.5872 ± 0.2056, R²: 0.8782 ± 0.0105, Spearman: 0.9374 ± 0.0049\n"
          ]
        },
        {
          "data": {
            "text/plain": [
              "{'RMSE Mean': 5.136708417513435,\n",
              " 'RMSE Std': 0.2871283311201038,\n",
              " 'MAE Mean': 3.9043976142747803,\n",
              " 'MAE Std': 0.21460970667053417,\n",
              " 'MAPE Mean': 4.587196926233158,\n",
              " 'MAPE Std': 0.20562369972503083,\n",
              " 'R² Mean': 0.8781700779656774,\n",
              " 'R² Std': 0.010479325372188006,\n",
              " 'Spearman Mean': 0.9374310124646265,\n",
              " 'Spearman Std': 0.0049415162657223755}"
            ]
          },
          "execution_count": 27,
          "metadata": {},
          "output_type": "execute_result"
        }
      ],
      "source": [
        "features, labels = extract_consecutive_entries_ending_at(\n",
        "    df_glucose_filtered,\n",
        "    df_features[final_features],\n",
        "    time_column_main='Device Timestamp',\n",
        "    time_column_minute='Time',\n",
        "    num_entries=1440,\n",
        "    lag=240,\n",
        "    fill_missing=False)\n",
        "\n",
        "perform_kfold_cv(features, labels, model)"
      ]
    },
    {
      "cell_type": "code",
      "source": [
        "lags = [0, 30, 60, 120, 180, 240, 360]\n",
        "ids = [\"MMCS0002\", \"MMCS0003\", \"MMCS0005\", \"MMCS0007\", \"MMCS0008\", \"MMCS0009\", \"MMCS0010\", \"MMCS0011\", \"MMCS0016\"]\n",
        "final_data = []\n",
        "file_path = \"/content/drive/MyDrive/UTA_Glucose/Ravikiran/data/feature_engineered\"\n",
        "results_path = \"/content/drive/MyDrive/UTA_Glucose/Ravikiran/results\"\n",
        "models = [\"XGBoost\"]"
      ],
      "metadata": {
        "id": "I-mgZ2pc8kEh"
      },
      "execution_count": null,
      "outputs": []
    },
    {
      "cell_type": "code",
      "source": [
        "for id in ids:\n",
        "  for model_name in models:\n",
        "    for lag in lags:\n",
        "      print(f\"ID: {id}, Lag: {lag}\")\n",
        "      glucose_path = f\"{file_path}/{id}_glucose_processed.csv\"\n",
        "      df_glucose_filtered = pd.read_csv(glucose_path)\n",
        "      df_features = pd.read_csv(f'{file_path}/{id}_feature_engineered_data.csv')\n",
        "      features, labels = extract_consecutive_entries_ending_at(\n",
        "          df_glucose_filtered,\n",
        "          df_features[final_features],\n",
        "          time_column_main='Device Timestamp',\n",
        "          time_column_minute='Time',\n",
        "          num_entries=1440,\n",
        "          lag=lag,\n",
        "          fill_missing=False)\n",
        "\n",
        "      results = perform_kfold_cv(features, labels, model, model_name, lag, id)\n",
        "      final_data.append(results)\n",
        "\n",
        "# Convert to a DataFrame\n",
        "df = pd.DataFrame(final_data)\n",
        "\n",
        "# Save the DataFrame to a CSV file\n",
        "csv_file = f\"{results_path}/captured_metrics.csv\"\n",
        "df.to_csv(csv_file, index=False)\n",
        "\n",
        "print(f\"Metrics saved to {csv_file}\")"
      ],
      "metadata": {
        "id": "PXO9o9yG8PYc"
      },
      "execution_count": null,
      "outputs": []
    }
  ],
  "metadata": {
    "colab": {
      "provenance": []
    },
    "kernelspec": {
      "display_name": "Python 3",
      "name": "python3"
    },
    "language_info": {
      "name": "python"
    }
  },
  "nbformat": 4,
  "nbformat_minor": 0
}