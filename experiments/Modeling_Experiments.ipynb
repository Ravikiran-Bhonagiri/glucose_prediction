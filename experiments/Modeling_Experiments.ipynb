{
  "nbformat": 4,
  "nbformat_minor": 0,
  "metadata": {
    "colab": {
      "provenance": []
    },
    "kernelspec": {
      "name": "python3",
      "display_name": "Python 3"
    },
    "language_info": {
      "name": "python"
    }
  },
  "cells": [
    {
      "cell_type": "code",
      "execution_count": null,
      "metadata": {
        "id": "Fe2_yTjc_o3J"
      },
      "outputs": [],
      "source": [
        "import numpy as np\n",
        "import pandas as pd\n",
        "from sklearn.model_selection import KFold\n",
        "from sklearn.metrics import mean_squared_error, mean_absolute_error, r2_score\n",
        "from scipy.stats import spearmanr\n",
        "from xgboost import XGBRegressor\n",
        "from matplotlib.backends.backend_pdf import PdfPages\n",
        "import matplotlib.pyplot as plt\n",
        "from datetime import datetime"
      ]
    },
    {
      "cell_type": "code",
      "source": [
        "preds_vs_actuals = []\n",
        "lags = [0, 30, 60, 120, 180, 240, 360]\n",
        "ids = [\"MMCS0002\", \"MMCS0003\", \"MMCS0005\", \"MMCS0007\", \"MMCS0008\", \"MMCS0009\", \"MMCS0010\", \"MMCS0011\", \"MMCS0016\"]\n",
        "final_data = []\n",
        "file_path = \"/content/drive/MyDrive/UTA_Glucose/Ravikiran/data/feature_engineered\"\n",
        "results_path = \"/content/drive/MyDrive/UTA_Glucose/Ravikiran/\"\n",
        "models = [\"XGBoost\"]\n",
        "\n",
        "# Generate a timestamped file name\n",
        "current_datetime = datetime.now().strftime(\"%Y-%m-%d_%H-%M-%S\")\n",
        "\n",
        "# Create a PDF file to save all the plots\n",
        "pdf_filename = f\"{results_path}/glucose_predictions_plots.pdf\"\n",
        "pdf_pages = PdfPages(pdf_filename)"
      ],
      "metadata": {
        "id": "2Eos0WgaAo-_"
      },
      "execution_count": null,
      "outputs": []
    },
    {
      "cell_type": "code",
      "source": [
        "def perform_kfold_cv(features, labels, model, model_name, lag, id, k_splits=5):\n",
        "\n",
        "    features = features.reshape(features.shape[0], -1)\n",
        "    labels = labels.flatten()\n",
        "\n",
        "    kfold = KFold(n_splits=k_splits, shuffle=True, random_state=42)\n",
        "    rmse_scores, mae_scores, mape_scores, r2_scores, spearman_coeffs = [], [], [], [], []\n",
        "\n",
        "    for fold, (train_idx, val_idx) in enumerate(kfold.split(features, labels)):\n",
        "        print(f\"Fold {fold + 1}\")\n",
        "        X_train, X_val = features[train_idx], features[val_idx]\n",
        "        y_train, y_val = labels[train_idx], labels[val_idx]\n",
        "        model.fit(X_train, y_train)\n",
        "        y_pred = model.predict(X_val)\n",
        "        rmse_scores.append(mean_squared_error(y_val, y_pred, squared=False))\n",
        "        mae_scores.append(mean_absolute_error(y_val, y_pred))\n",
        "        mape_scores.append(np.mean(np.abs((y_val - y_pred) / np.where(y_val != 0, y_val, np.finfo(float).eps))) * 100)\n",
        "        r2_scores.append(r2_score(y_val, y_pred))\n",
        "        spearman_coeffs.append(spearmanr(y_val, y_pred)[0])\n",
        "        #print(f\"RMSE: {rmse_scores[-1]}, MAE: {mae_scores[-1]}, MAPE: {mape_scores[-1]}, R²: {r2_scores[-1]}, Spearman: {spearman_coeffs[-1]}\")\n",
        "\n",
        "        # Save actual and predicted values to the CSV data list\n",
        "        for actual, predicted in zip(y_val, y_pred):\n",
        "            preds_vs_actuals.append({\n",
        "                \"Model\": model_name,\n",
        "                \"Fold\": fold + 1,\n",
        "                \"Actual\": actual,\n",
        "                \"Predicted\": predicted,\n",
        "                \"Lag\": lag,\n",
        "                \"ID\": id,\n",
        "            })\n",
        "\n",
        "        # Plot Actual vs Predicted values\n",
        "        plt.figure(figsize=(10, 6))\n",
        "        # Plotting the actual glucose levels with a solid blue line\n",
        "        plt.plot(y_test, label='Actual', linestyle='-', color='blue')\n",
        "\n",
        "        # Plotting the predicted glucose levels with a solid red line\n",
        "        plt.plot(y_pred, label='Predicted', linestyle='-', color='red')\n",
        "\n",
        "        # Set plot title with model name and fold number\n",
        "        plt.title(f\"Actual vs Predicted Glucose Levels\\n ID: {id}, Model: {model_name},\\n Fold: {fold + 1}, Lag: {lag}\", fontsize=14)\n",
        "        plt.xlabel(\"Input Interval\")\n",
        "        plt.ylabel(\"Glucose Level\")\n",
        "        plt.legend()\n",
        "        plt.grid(True)\n",
        "\n",
        "        # Add text box with metrics in the plot\n",
        "        plt.figtext(0.15, -0.1, f\"RMSE: {np.mean(rmse_scores):.4f} ± {np.std(rmse_scores):.4f}, MAE: {np.mean(mae_scores):.4f} ± {np.std(mae_scores):.4f}, \\nMAPE: {np.mean(mape_scores):.4f} ± {np.std(mape_scores):.4f}, R²: {np.mean(r2_scores):.4f} ± {np.std(r2_scores):.4f}, \\nSpearman: {np.mean(spearman_coeffs):.4f} ± {np.std(spearman_coeffs):.4f}\",\n",
        "                    fontsize=10, ha='left')\n",
        "\n",
        "        # Save the current plot to the PDF\n",
        "        pdf_pages.savefig()\n",
        "        plt.close()\n",
        "\n",
        "    # Include mean and standard deviation for each metric\n",
        "    metrics = {\n",
        "        \"RMSE Mean\": np.mean(rmse_scores), \"RMSE Std\": np.std(rmse_scores),\n",
        "        \"MAE Mean\": np.mean(mae_scores), \"MAE Std\": np.std(mae_scores),\n",
        "        \"MAPE Mean\": np.mean(mape_scores), \"MAPE Std\": np.std(mape_scores),\n",
        "        \"R² Mean\": np.mean(r2_scores), \"R² Std\": np.std(r2_scores),\n",
        "        \"Spearman Mean\": np.mean(spearman_coeffs), \"Spearman Std\": np.std(spearman_coeffs),\n",
        "        \"model\": model_name, \"lag\": lag, \"id\": id,\n",
        "    }\n",
        "\n",
        "    print(f\"RMSE: {np.mean(rmse_scores):.4f} ± {np.std(rmse_scores):.4f}, \"\n",
        "      f\"MAE: {np.mean(mae_scores):.4f} ± {np.std(mae_scores):.4f}, \"\n",
        "      f\"MAPE: {np.mean(mape_scores):.4f} ± {np.std(mape_scores):.4f}, \"\n",
        "      f\"R²: {np.mean(r2_scores):.4f} ± {np.std(r2_scores):.4f}, \"\n",
        "      f\"Spearman: {np.mean(spearman_coeffs):.4f} ± {np.std(spearman_coeffs):.4f}\")\n",
        "\n",
        "    return metrics"
      ],
      "metadata": {
        "id": "AyzIVSqx_zfT"
      },
      "execution_count": null,
      "outputs": []
    },
    {
      "cell_type": "code",
      "source": [
        "xgb_params = {\n",
        "    \"n_estimators\": 100,               # Number of boosting rounds (trees)\n",
        "    \"max_depth\": 6,                    # Maximum depth of each tree\n",
        "    \"learning_rate\": 0.1,              # Learning rate (also known as eta)\n",
        "    \"subsample\": 0.8,                  # Fraction of samples to use for training each tree\n",
        "    \"colsample_bytree\": 0.8,           # Fraction of features to consider for each split\n",
        "    \"objective\": \"reg:squarederror\",   # Objective function for regression (minimizes squared error)\n",
        "    \"eval_metric\": \"rmse\"              # Evaluation metric used for early stopping\n",
        "}\n",
        "\n",
        "model = xgb.XGBRegressor(**xgb_params)\n",
        "\n",
        "# Initialize K-Fold Cross-Validation\n",
        "kfold = KFold(n_splits=5, shuffle=True, random_state=42)"
      ],
      "metadata": {
        "id": "YW4kHbjv_7Kz"
      },
      "execution_count": null,
      "outputs": []
    },
    {
      "cell_type": "code",
      "source": [
        "for id in ids:\n",
        "  for model_name in models:\n",
        "    for lag in lags:\n",
        "      print(f\"ID: {id}, Lag: {lag}\")\n",
        "      glucose_path = f\"{file_path}/{id}_glucose_processed.csv\"\n",
        "      df_glucose_filtered = pd.read_csv(glucose_path)\n",
        "      df_features = pd.read_csv(f'{file_path}/{id}_feature_engineered_data.csv')\n",
        "      features, labels = extract_consecutive_entries_ending_at(\n",
        "          df_glucose_filtered,\n",
        "          df_features[final_features],\n",
        "          time_column_main='Device Timestamp',\n",
        "          time_column_minute='Time',\n",
        "          num_entries=1440,\n",
        "          lag=lag,\n",
        "          fill_missing=False)\n",
        "\n",
        "      results = perform_kfold_cv(features, labels, model, model_name, lag, id)\n",
        "      final_data.append(results)\n",
        "\n",
        "# Save all the plots to the PDF file\n",
        "pdf_pages.close()"
      ],
      "metadata": {
        "id": "ZGWmByKh_te2"
      },
      "execution_count": null,
      "outputs": []
    },
    {
      "cell_type": "code",
      "source": [
        "# Convert to a DataFrame\n",
        "df = pd.DataFrame(final_data)\n",
        "\n",
        "# Save the DataFrame to a CSV file\n",
        "csv_file = f\"{results_path}/captured_metrics_{current_datetime}.csv\"\n",
        "df.to_csv(csv_file, index=False)\n",
        "\n",
        "print(f\"Metrics saved to {csv_file}\")"
      ],
      "metadata": {
        "id": "qRBSmgL_Few9"
      },
      "execution_count": null,
      "outputs": []
    },
    {
      "cell_type": "code",
      "source": [
        "df_preds_vs_actuals = pd.DataFrame(preds_vs_actuals)\n",
        "\n",
        "csv_file_preds_vs_actuals = f\"{results_path}/captured_preds_vs_actuals_{current_datetime}.csv\"\n",
        "\n",
        "df_preds_vs_actuals.to_csv(csv_file_preds_vs_actuals, index=False)\n",
        "\n",
        "print(f\"Predictions vs. Actuals saved to {csv_file_preds_vs_actuals}\")"
      ],
      "metadata": {
        "id": "1IklTOktFfb5"
      },
      "execution_count": null,
      "outputs": []
    }
  ]
}